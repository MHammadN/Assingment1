{
 "cells": [
  {
   "cell_type": "markdown",
   "id": "d0af326c",
   "metadata": {},
   "source": [
    "# Data Science Tools and Ecosystem."
   ]
  },
  {
   "cell_type": "markdown",
   "id": "1a5568b5",
   "metadata": {},
   "source": [
    "Elaboration of data science tools and ecosystem is the core objective of the notebook."
   ]
  },
  {
   "cell_type": "markdown",
   "id": "8228301a",
   "metadata": {},
   "source": [
    "Objectives: Some of the key notes from the course.\n",
    "- Popular Data science languages.\n",
    "- Most commonly used libraries by data scientist.\n",
    "- Some of the Data science Tools are given in the table.\n",
    "- Some examples of arithmetic expressions.\n",
    "- Simple arithmatic expression to multiply and then add integers.\n",
    "- Code to convert Minutes to hours.\n",
    "\n"
   ]
  },
  {
   "cell_type": "markdown",
   "id": "0c70062b",
   "metadata": {},
   "source": [
    "Some of the popular data science languages used by Data Scientist are following.\n",
    "\n",
    "1. Python\n",
    "\n",
    "2. R\n",
    "\n",
    "3. SQL\n",
    "\n",
    "4. Scala\n",
    "\n",
    "5. Java\n",
    "\n",
    "6. C++\n",
    "\n",
    "7. Julia"
   ]
  },
  {
   "cell_type": "markdown",
   "id": "86a23c76",
   "metadata": {},
   "source": [
    "Most commonly used libraries by data scientist are as following.\n",
    "\n",
    "1. Numpy.\n",
    "\n",
    "2. Pandas.\n",
    "\n",
    "3. Matplotlib.\n",
    "\n",
    "4. Scientific Computing Libraries of Python.\n",
    "\n",
    "5. Visualization Libraries of Python.\n",
    "\n",
    "6. High-Level- Machine Learning and Deep Learning Libraries.\n",
    "\n",
    "7. Deep Learning Libraries of Python."
   ]
  },
  {
   "cell_type": "markdown",
   "id": "4fd50bee",
   "metadata": {},
   "source": [
    "Some of the Data science Tools are given in the table.\n",
    "\n",
    "|Data Scince Tools| \n",
    "| ------ | \n",
    "| Jupyter Notebook |\n",
    "| Jupyter Lab |\n",
    "| RStudio |\n",
    "| Spyder |\n",
    "| VS Code (Visual Studio Code) |\n",
    "| PyCharm Community Edition |"
   ]
  },
  {
   "cell_type": "markdown",
   "id": "9a75479c",
   "metadata": {},
   "source": [
    "## Here are some examples of arithmetic expressions:    "
   ]
  },
  {
   "cell_type": "code",
   "execution_count": 46,
   "id": "b749734f",
   "metadata": {},
   "outputs": [
    {
     "name": "stdout",
     "output_type": "stream",
     "text": [
      "Addition: 3 + 5 = 8\n"
     ]
    }
   ],
   "source": [
    "x = 3+5\n",
    "print(\"Addition:\", 3, \"+\", 5, \"=\", x)"
   ]
  },
  {
   "cell_type": "code",
   "execution_count": 41,
   "id": "076d49fa",
   "metadata": {
    "scrolled": true
   },
   "outputs": [
    {
     "name": "stdout",
     "output_type": "stream",
     "text": [
      "Sutraction: 10 - 4 = 6\n"
     ]
    }
   ],
   "source": [
    "y = 10-4\n",
    "print(\"Sutraction:\", 10, \"-\", 4, \"=\", y)"
   ]
  },
  {
   "cell_type": "code",
   "execution_count": 42,
   "id": "b138372d",
   "metadata": {},
   "outputs": [
    {
     "name": "stdout",
     "output_type": "stream",
     "text": [
      "multiplication: 6 * 7 = 42\n"
     ]
    }
   ],
   "source": [
    "z = 6*7\n",
    "print(\"multiplication:\", 6, \"*\", 7, \"=\", z)"
   ]
  },
  {
   "cell_type": "code",
   "execution_count": 43,
   "id": "6b0c7c17",
   "metadata": {},
   "outputs": [
    {
     "name": "stdout",
     "output_type": "stream",
     "text": [
      "division: 15 / 3 = 5.0\n"
     ]
    }
   ],
   "source": [
    "a = 15/3\n",
    "print(\"division:\", 15, \"/\", 3, \"=\", a)"
   ]
  },
  {
   "cell_type": "code",
   "execution_count": 44,
   "id": "a64d7152",
   "metadata": {},
   "outputs": [
    {
     "name": "stdout",
     "output_type": "stream",
     "text": [
      "Square root: 2 ^ 4 = 16\n"
     ]
    }
   ],
   "source": [
    "b = 2**4\n",
    "print(\"Square root:\", 2, \"^\", 4, \"=\", b)"
   ]
  },
  {
   "cell_type": "code",
   "execution_count": 45,
   "id": "7b6971dc",
   "metadata": {},
   "outputs": [
    {
     "name": "stdout",
     "output_type": "stream",
     "text": [
      "Percentage: 11 % 3 = 2\n"
     ]
    }
   ],
   "source": [
    "c = 11%3\n",
    "print(\"Percentage:\", 11, \"%\", 3, \"=\", c)"
   ]
  },
  {
   "cell_type": "markdown",
   "id": "9d8a6b86",
   "metadata": {},
   "source": [
    "This a simple arithmatic expression to multiply and then add integers."
   ]
  },
  {
   "cell_type": "code",
   "execution_count": 73,
   "id": "ad446feb",
   "metadata": {
    "scrolled": true
   },
   "outputs": [
    {
     "name": "stdout",
     "output_type": "stream",
     "text": [
      "(3 * 4) + 5 = 17\n"
     ]
    }
   ],
   "source": [
    "Equation = (3*4)+5\n",
    "print(\"(3 * 4)\", \"+\", 5, \"=\", Equation)"
   ]
  },
  {
   "cell_type": "markdown",
   "id": "95d54afc",
   "metadata": {},
   "source": [
    "This will convert 200 minutes to hours"
   ]
  },
  {
   "cell_type": "code",
   "execution_count": 55,
   "id": "00576b70",
   "metadata": {},
   "outputs": [
    {
     "name": "stdout",
     "output_type": "stream",
     "text": [
      "200 minutes is equal to 3 hours and 20 minutes\n"
     ]
    }
   ],
   "source": [
    "total_minutes = 200\n",
    "hours = total_minutes // 60\n",
    "minutes = total_minutes % 60\n",
    "\n",
    "print(\"200 minutes is equal to\", hours, \"hours and\", minutes, \"minutes\")"
   ]
  },
  {
   "cell_type": "markdown",
   "id": "83ab10f1",
   "metadata": {},
   "source": [
    "## Author\n",
    "Muhammad Hammad Naeem"
   ]
  },
  {
   "cell_type": "markdown",
   "id": "4f0d2b4c",
   "metadata": {},
   "source": [
    "https://github.com/MHammadN/Assingment1.git"
   ]
  },
  {
   "cell_type": "code",
   "execution_count": null,
   "id": "9a3e3c60",
   "metadata": {},
   "outputs": [],
   "source": []
  }
 ],
 "metadata": {
  "kernelspec": {
   "display_name": "Python 3 (ipykernel)",
   "language": "python",
   "name": "python3"
  },
  "language_info": {
   "codemirror_mode": {
    "name": "ipython",
    "version": 3
   },
   "file_extension": ".py",
   "mimetype": "text/x-python",
   "name": "python",
   "nbconvert_exporter": "python",
   "pygments_lexer": "ipython3",
   "version": "3.11.3"
  }
 },
 "nbformat": 4,
 "nbformat_minor": 5
}
